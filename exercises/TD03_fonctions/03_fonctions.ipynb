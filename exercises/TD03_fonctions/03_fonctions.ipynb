{
 "cells": [
  {
   "cell_type": "markdown",
   "metadata": {},
   "source": [
    "# Instructions Générales\n",
    "\n",
    "Ce TD est à faire en créant un fichier td3.py, que vous éditerez dans VSCode. \n",
    "Vous ne remplirez pas les cellules de ce notebook, mais vous les copierez au fur et à mesure \n",
    "dans votre fichier pour les compléter.\n",
    "\n",
    "Vous respecterez au mieux les règles d'écriture de code, en particulier chaque fonction devra avoir un **docstring** et des commentaires si nécessaire et les noms de variable seront illustratifs de leur usage. Vous utiliserez les outils de débogage (flake8, mypy, debugger, pythontutor ...) pour corriger vos bogues."
   ]
  },
  {
   "cell_type": "markdown",
   "metadata": {},
   "source": [
    "# Gestion du temps\n",
    "\n",
    "Nous allons créer un petit logiciel de gestion du temps et des dates.\n",
    "Pour cela nous aurons besoin de créer un certain nombre de fonctions utilitaires.\n",
    "\n",
    "Un temps a le format suivant: (jour: int, heure: int, minute: int, seconde: int).\n",
    "C'est un tuple de 4 éléments. Par exemple (4,3,13,20) correspond à 4 jours, 3 heures, 13 minutes et 20 secondes.\n",
    "Si on une variable temps = (4,3,13,20), pour accéder au premier élément on fait temps\\[0\\] ce qui donne 4,\n",
    "le nombre de jours.\n",
    "\n",
    "Créer la fonction qui prend comme argument le temps et renvoie le nombre de seconde total correspondant à ce temps.\n",
    "Créer la fonction qui prend un nombre de secondes et renvoie le temps correspondante."
   ]
  },
  {
   "cell_type": "code",
   "execution_count": 12,
   "metadata": {},
   "outputs": [
    {
     "output_type": "stream",
     "name": "stdout",
     "text": [
      "24\n0\n0\n0\n"
     ]
    }
   ],
   "source": [
    "def tempsEnSeconde(temps):\n",
    "    '''  revoe le le nombre de secondes à partir d'un temps '''\n",
    "    jour = temps[0]*24*3600\n",
    "    heures = temps[1]*3600\n",
    "    minutes = temps[2]*60\n",
    "    secondes = temps[3]\n",
    "    return jour + heures + minutes + secondes\n",
    "tempsEnSeconde((0,0,60,0))\n",
    "\n",
    "\n"
   ]
  },
  {
   "cell_type": "code",
   "execution_count": 11,
   "metadata": {},
   "outputs": [
    {
     "output_type": "stream",
     "name": "stdout",
     "text": [
      "<class 'tuple'>\n60\n"
     ]
    },
    {
     "output_type": "execute_result",
     "data": {
      "text/plain": [
       "(0, 'jours', 1, 'heures', 0, 'minute', 0, 'secondes')"
      ]
     },
     "metadata": {},
     "execution_count": 11
    }
   ],
   "source": [
    "def tempsEnSeconde(temps):\n",
    "    \"\"\" Renvoie la valeur en seconde de temps donné comme jour, heure, minute, seconde.\"\"\"\n",
    "    nombre_de_jour = temps[0] * 3600*24\n",
    "    nombre_dheure = temps[1] * 3600\n",
    "    nombre_de_minute = temps[2] * 60\n",
    "    nombre_de_seconde = temps[3]\n",
    "    return nombre_de_jour + nombre_dheure + nombre_de_minute + nombre_de_seconde\n",
    "temps = (0,0,1,0)\n",
    "print(type(temps))\n",
    "print(tempsEnSeconde(temps))   \n",
    "\n",
    "def secondeEnTemps(seconde):\n",
    "    \"\"\"Renvoie le temps (jour, heure, minute, seconde) qui correspond au nombre de seconde passé en argument\"\"\"\n",
    "    seconde_en_jours = seconde // 86400\n",
    "    seconde_en_heure = (seconde % 86400) // 3600\n",
    "    minut = seconde % 86400\n",
    "    seconde_en_minute = (minut % 3600) // 60\n",
    "    secondes =  seconde_en_minute % 60\n",
    "    return (seconde_en_jours,\"jours\", seconde_en_heure, \"heures\", seconde_en_minute, \"minute\", secondes,'secondes')\n",
    "secondeEnTemps(3600)\n",
    "\n",
    "\n",
    "     \n",
    "\n"
   ]
  },
  {
   "cell_type": "code",
   "execution_count": null,
   "metadata": {},
   "outputs": [],
   "source": []
  },
  {
   "cell_type": "code",
   "execution_count": null,
   "metadata": {},
   "outputs": [],
   "source": [
    "#temps[0] : jours, temps[1]: minutes, temps[2]: minutes, temps[3]: secondes\n",
    "\n",
    "def tempsEnSeconde(temps):\n",
    "    \"\"\" Renvoie la valeur en seconde de temps donné comme jour, heure, minute, seconde.\"\"\"\n",
    "    pass\n",
    "\n",
    "temps = (3,23,1,34)\n",
    "print(type(temps))\n",
    "print(tempsEnSeconde(temps))   \n",
    "\n",
    "def secondeEnTemps(seconde):\n",
    "    \"\"\"Renvoie le temps (jour, heure, minute, seconde) qui correspond au nombre de seconde passé en argument\"\"\"\n",
    "    pass\n",
    "    \n",
    "temps = secondeEnTemps(100000)\n",
    "print(temps[0],\"jours\",temps[1],\"heures\",temps[2],\"minutes\",temps[3],\"secondes\")"
   ]
  },
  {
   "cell_type": "code",
   "execution_count": null,
   "metadata": {},
   "outputs": [],
   "source": [
    "#fonction auxiliaire ici\n",
    "\n",
    "def afficheTemps(temps):\n",
    "    pass\n",
    "    \n",
    "afficheTemps((1,0,14,23))    "
   ]
  },
  {
   "cell_type": "code",
   "execution_count": null,
   "metadata": {},
   "outputs": [],
   "source": [
    "def afficheTemps(temps):\n",
    "    \"\"\" Afficher un temps avec les mots jours, heures, minutes et secondes, s'il y en a zéro ils n'apparraissent pas et s'il y en a plusieurs       ils doivent être aux pluriels\"\"\"\n",
    "    pass\n",
    "    \n",
    "afficheTemps((1,0,14,23))\n",
    "temps = (1, 0, 14, 23)\n",
    "\n",
    "if temps[0] == 0 :\n",
    "    print(\"Le temps est égal à\", end=\"\")\n",
    "elif temps[0] == 1 :\n",
    "    print(\"Le temps est égal à\",  temps[0], \"jour \", end=\"\")\n",
    "elif temps[0] > 1 : \n",
    "    print(\"Le temps est égal à\", temps[0], \"jours \", end=\"\")\n",
    "\n",
    "if temps[1] == 0 :\n",
    "    print(\"\", end=\"\")\n",
    "elif temps[1] == 1 :\n",
    "    print( temps[1], \"heure \", end=\"\")\n",
    "elif temps[1] > 1 :\n",
    "    print( temps[1], \"heures \", end=\"\")\n",
    "\n",
    "if temps[2] == 0 :\n",
    "    print(\"\", end=\"\") \n",
    "elif temps[2] == 1 :\n",
    "    print( temps[2], \"minute et \", end=\"\")\n",
    "elif temps[2] > 1 :\n",
    "    print(temps[2], \"minutes et \", end=\"\")\n"
   ]
  },
  {
   "cell_type": "markdown",
   "metadata": {},
   "source": [
    "Ecrire une fonction qui demande à l'utilisateur de rentrer un nombre de jours, d'heures, de minutes et\n",
    "de secondes et qui renvoie un temps. Attention, si l'entrée utilisateur n'est pas correcte, par exemple 80 minutes,\n",
    "afficher un message d'erreur et s'arrêter.\n",
    "\n",
    "(Optionnel) Au lieu d'arêter le programme, demander de rentrer une nouvelle valeur, tant que \n",
    "ce n'est pas une valeur correcte."
   ]
  },
  {
   "cell_type": "code",
   "execution_count": 45,
   "metadata": {},
   "outputs": [
    {
     "output_type": "stream",
     "name": "stdout",
     "text": [
      "erreur heures > 24\nerreur minutes > 60\nerreur seconde > 60\n"
     ]
    },
    {
     "output_type": "execute_result",
     "data": {
      "text/plain": [
       "(2, 'jours', 80, 'heures', 90, 'minutes', 64, 'secondes')"
      ]
     },
     "metadata": {},
     "execution_count": 45
    }
   ],
   "source": [
    "\n",
    "def renvoietemps():\n",
    "    '''demande à l'utilisateur de rentrer un nombre de jours, d'heures, de minutes, et de secondes et elle renvoie un temps'''\n",
    "    nombre_de_jour = int(input('entre un nombre de jour'))\n",
    "    nombre_dheure = int(input('entrer un nombre dheures'))\n",
    "    nombre_de_minutes = int(input('entrer un nombre de minutes'))\n",
    "    nombre_de_seconde = int(input('entrer un nombre de secondes'))\n",
    "    if nombre_dheure > 24:\n",
    "        print('erreur heures > 24')\n",
    "    else:\n",
    "        print('bon resultat')\n",
    "    if nombre_de_minutes > 60:\n",
    "        print('erreur minutes > 60')\n",
    "    else:\n",
    "        print('bon resulat')\n",
    "    if nombre_de_seconde > 60:\n",
    "        print('erreur seconde > 60')\n",
    "    else:\n",
    "        print('bon resultat')\n",
    "    return(nombre_de_jour, 'jours', nombre_dheure, 'heures', nombre_de_minutes, 'minutes', nombre_de_seconde, 'secondes')\n",
    "\n",
    "renvoietemps()\n",
    "\n",
    "    \n",
    "\n",
    "   \n",
    "        \n",
    "    \n",
    "\n",
    "\n",
    "\n",
    "\n"
   ]
  },
  {
   "cell_type": "code",
   "execution_count": null,
   "metadata": {},
   "outputs": [],
   "source": [
    "def demandeTemps():\n",
    "    pass\n",
    "\n",
    "afficheTemps(demandeTemps())"
   ]
  },
  {
   "cell_type": "markdown",
   "metadata": {},
   "source": [
    "On veut être capable d'additionner deux temps. Donner une fonction qui fait ce calcul,\n",
    "en utilisant les fonctions précédentes."
   ]
  },
  {
   "cell_type": "code",
   "execution_count": 7,
   "metadata": {},
   "outputs": [
    {
     "output_type": "execute_result",
     "data": {
      "text/plain": [
       "(0, 'jours', 0, 'heures', 1, 'minute', 1, 'secondes')"
      ]
     },
     "metadata": {},
     "execution_count": 7
    }
   ],
   "source": [
    "def sommeTemps(temps1,temps2):\n",
    "   \n",
    "     \n",
    "    tempsEnSeconde(temps1)# resultat en seconde exemple:3600\n",
    "   \n",
    "    tempsEnSeconde(temps2)# resultat en seconde exemple:3600\n",
    "   \n",
    "    somme = tempsEnSeconde(temps1) + tempsEnSeconde(temps2)    # somme en seconde = 3600+3600\n",
    "    return secondeEnTemps(somme)# resultat en temps ex : (2,6,5,4)\n",
    "temps1 = (0,0,0,0) \n",
    "temps2 = (0,0,0,60) \n",
    "sommeTemps(temps1,temps2)\n",
    "\n",
    "    \n",
    "\n",
    "\n",
    "\n",
    "\n"
   ]
  },
  {
   "cell_type": "code",
   "execution_count": null,
   "metadata": {},
   "outputs": [],
   "source": [
    "def sommeTemps(temps1,temps2):\n",
    "    pass\n",
    "\"\"\"Additionner deux temps\"\"\"\n",
    "\n",
    "sommeTemps((2,3,4,25),(5,22,57,1))\n",
    "temps1 = (2, 3, 4, 25)\n",
    "temps2 = (5, 22, 57, 1)\n",
    "\n",
    "temps30 = temps1[0] + temps2[0]\n",
    "\n",
    "temps31 = temps1[1] + temps2[1]\n",
    "if temps31 > 24 :\n",
    "    temps30 = temps30 + 1\n",
    "    temps31 = temps31 - 24\n",
    "\n",
    "temps32 = temps1[2] + temps2[2]\n",
    "if temps32 > 60 :\n",
    "     temps31 = temps31 + 1\n",
    "     temps32 = temps32 - 60\n",
    "\n",
    "temps33 = temps1[3] + temps2[3]\n",
    "if temps33 > 60 :\n",
    "    temps32 = temps + 1\n",
    "    temps33 = temps33 - 60\n",
    "\n",
    "print(\"L'addition des temps1 et temps2 nous donne temps3 égal à:\", temps30, \"jours\", temps31, \"heures\", temps32, \"minutes\", temps33, \"secondes.\")\n"
   ]
  },
  {
   "cell_type": "code",
   "execution_count": 15,
   "metadata": {},
   "outputs": [],
   "source": [
    "def sommeTemps(temps1,temps2):\n",
    "    pass\n",
    "\n",
    "sommeTemps((2,3,4,25),(5,22,57,1))"
   ]
  },
  {
   "cell_type": "markdown",
   "metadata": {},
   "source": [
    "On veut maintenant calculer un pourcentage d'un temps. Par exemple, 20% de\n",
    "2 jours et 36 minutes correspond à 9 heures, 43 minutes et 12 secondes.\n",
    "\n",
    "Implémenter la fonction `proportionTemps` puis appeler cette fonction en échangeant l'ordre des arguments mais en les nommant."
   ]
  },
  {
   "cell_type": "code",
   "execution_count": 19,
   "metadata": {},
   "outputs": [
    {
     "output_type": "stream",
     "name": "stdout",
     "text": [
      "60\n"
     ]
    },
    {
     "output_type": "execute_result",
     "data": {
      "text/plain": [
       "(0.0, 'jours', 0.0, 'heures', 0.0, 'minute', 0.0, 'secondes')"
      ]
     },
     "metadata": {},
     "execution_count": 19
    }
   ],
   "source": [
    "\n",
    "\n",
    "def proportionTemps(temps,proportion):\n",
    "    s = tempsEnSeconde(temps)\n",
    "    print(s)\n",
    "    pourcentage = (s*proportion)/100\n",
    "    return secondeEnTemps(pourcentage)\n",
    "temps = (0,0,0,60)\n",
    "proportion = 20\n",
    "proportionTemps(temps,proportion)"
   ]
  },
  {
   "cell_type": "code",
   "execution_count": null,
   "metadata": {},
   "outputs": [],
   "source": [
    "def proportionTemps(temps,proportion):\n",
    "    pass\n",
    "afficheTemps(proportionTemps((2,0,36,0),0.2))\n",
    "#appeler la fonction en échangeant l'ordre des arguments"
   ]
  },
  {
   "cell_type": "markdown",
   "metadata": {},
   "source": [
    "On veut maintenant afficher un temps sous forme de date, en supposant \n",
    "que le temps 0 est le 1 janvier 1970 à 00:00:00.\n",
    "\n",
    "* Implémenter une fonction `tempsEnDate`qui donne la date sous la forme (année, jour, heure, minute, seconde).\n",
    "* Implémenter la fonction `afficheDate`qui affiche la date. \n",
    "* (Optionnel) Gérer également les mois."
   ]
  },
  {
   "cell_type": "code",
   "execution_count": null,
   "metadata": {},
   "outputs": [],
   "source": [
    "\n",
    " \n",
    "def tempsEnDate(temps):\n",
    "    \n"
   ]
  },
  {
   "cell_type": "code",
   "execution_count": null,
   "metadata": {},
   "outputs": [],
   "source": [
    "def tempsEnDate(temps):\n",
    "    pass\n",
    "\n",
    "def afficheDate(date = -1):\n",
    "    pass\n",
    "    \n",
    "temps = secondeEnTemps(1000000000)\n",
    "afficheTemps(temps)\n",
    "afficheDate(tempsEnDate(temps))\n",
    "afficheDate()"
   ]
  },
  {
   "cell_type": "markdown",
   "metadata": {},
   "source": [
    "Il existe des fonctions dans la librairie `time` pour la gestion du temps. En particulier, il existe\n",
    "une fonction `time` qui donne le temps écoulé depuis 1970 en secondes. \n",
    "La trouver avec la [documentation python](https://docs.python.org/fr/3/library/time.html#module-time) et la tester en utilisant `afficheDate`. \n",
    "Tester de la même manière la fonction `time.gmtime` qui réalise une tâche similaire à `tempsEnDate`.\n",
    "Que constatez vous ?"
   ]
  },
  {
   "cell_type": "code",
   "execution_count": null,
   "metadata": {},
   "outputs": [],
   "source": [
    "#tester ici les fonctions de la librairie time"
   ]
  },
  {
   "cell_type": "markdown",
   "metadata": {},
   "source": [
    "Attention, tous les 4 ans les années sont bisextiles (un jour de plus) sauf les multiples de 100 qui ne sont pas des multiples de 400.\n",
    "Donner un code qui prend un nombre de jours et affiche toutes les années bisextiles depuis 1 janvier 2020 à 00:00:00 jusqu'à la fin de ces jours."
   ]
  },
  {
   "cell_type": "code",
   "execution_count": null,
   "metadata": {},
   "outputs": [],
   "source": [
    "def bisextile(jour):\n",
    "    pass\n",
    "        \n",
    "bisextile(20000)"
   ]
  },
  {
   "cell_type": "code",
   "execution_count": 27,
   "metadata": {},
   "outputs": [
    {
     "output_type": "stream",
     "name": "stdout",
     "text": [
      "2020 est bisextile\n2024 est bisextile\n2028 est bisextile\n2032 est bisextile\n2036 est bisextile\n2040 est bisextile\n2044 est bisextile\n2048 est bisextile\n2052 est bisextile\n2056 est bisextile\n2060 est bisextile\n2064 est bisextile\n"
     ]
    }
   ],
   "source": [
    "\n",
    "def bisextile(jour):# prof\n",
    "    annee = 2020\n",
    "    while jour >= 0:\n",
    "        if annee % 4 == 0 and ( annee %100 != 0 or annee %400 != 0 ):\n",
    "            print(annee, \"est bisextile\")\n",
    "            jour -= 366\n",
    "        else:\n",
    "            jour -= 365\n",
    "        annee += 1\n",
    "bisextile(17155) "
   ]
  },
  {
   "cell_type": "code",
   "execution_count": 39,
   "metadata": {},
   "outputs": [
    {
     "output_type": "stream",
     "name": "stdout",
     "text": [
      "2020 annee bisextile\n2024 annee bisextile\n"
     ]
    }
   ],
   "source": [
    "\n",
    "def bisextile(jour):\n",
    "    annee = 2020\n",
    "    while jour > 0 :\n",
    "        if annee % 4 == 0 and (annee % 100 != 0 or annee % 400 !=0):\n",
    "            print(annee, 'annee bisextile')\n",
    "            jour = jour - 366\n",
    "            \n",
    "        else:\n",
    "            jour = jour - 356\n",
    "        annee = annee + 1   \n",
    "            \n",
    "        \n",
    "           \n",
    "            \n",
    "        \n",
    "bisextile(1825)"
   ]
  },
  {
   "cell_type": "markdown",
   "metadata": {},
   "source": [
    "Implémenter une fonction `nombreBisextile` qui calcule le nombre d'années bisextiles pour un nombre de jour donnés pour corriger votre fonction de calcul de la date."
   ]
  },
  {
   "cell_type": "code",
   "execution_count": null,
   "metadata": {},
   "outputs": [],
   "source": [
    "def nombreBisextile(jour):\n",
    "    pass\n",
    "\n",
    "def tempsEnDateBisextile(temps):\n",
    "    pass\n",
    "   \n",
    "temps = secondeEnTemps(1000000000)\n",
    "afficheTemps(temps)\n",
    "afficheDate(tempsEnDateBisextile(temps))"
   ]
  },
  {
   "cell_type": "markdown",
   "metadata": {},
   "source": [
    "Ajouter des valeurs par défaut dans le code de `afficheDate` afin de pouvoir ommettre\n",
    "l'argument de ces fonctions. Dans ce cas là, on affichera la date actuelle en utilisant la fonction `time`."
   ]
  },
  {
   "cell_type": "markdown",
   "metadata": {},
   "source": [
    "On va maintenant inspecter notre code pour améliorer sa qualité:\n",
    "\n",
    "* Regarder tous les warnings donnés par flake8 et essayer de les régler.\n",
    "* Utiliser le debugger (F5) pour étudier le fonctionnement de votre fonction nombreBisextile.\n",
    "* Mettre les annotations de type des arguments et du retour de la fonction pour nombreBisextile et une autre fonction de votre choix. Vérifier avec mypy que tout fonctionne bien."
   ]
  },
  {
   "cell_type": "markdown",
   "metadata": {},
   "source": [
    "Donner une fonction qui vérifie la charge horaire d'un employé, donnée sous forme d'une liste de temps travaillé chaque semaine dans un mois. Il ne faut pas dépasser 48h par semaine et 140h par mois (qu'on considère ici de 4 semaines).\n",
    "\n",
    "(Optionnel) S'adapter à une liste qui peut contenir plusieurs mois."
   ]
  },
  {
   "cell_type": "code",
   "execution_count": null,
   "metadata": {},
   "outputs": [],
   "source": [
    "def verifie(liste_temps):\n",
    "    pass\n",
    "\n",
    "\n",
    "liste_temps = [[1,2,39,34],[0,1,9,4],[0,29,39,51],[0,31,13,46]]\n",
    "verifie(liste_temps)"
   ]
  },
  {
   "cell_type": "code",
   "execution_count": null,
   "metadata": {},
   "outputs": [],
   "source": []
  }
 ],
 "metadata": {
  "kernelspec": {
   "display_name": "Python 3",
   "language": "python",
   "name": "python3"
  },
  "language_info": {
   "codemirror_mode": {
    "name": "ipython",
    "version": 3
   },
   "file_extension": ".py",
   "mimetype": "text/x-python",
   "name": "python",
   "nbconvert_exporter": "python",
   "pygments_lexer": "ipython3",
   "version": "3.8.5-final"
  }
 },
 "nbformat": 4,
 "nbformat_minor": 4
}